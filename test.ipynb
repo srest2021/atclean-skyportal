{
 "cells": [
  {
   "cell_type": "code",
   "execution_count": 1,
   "id": "f6e9faf3",
   "metadata": {},
   "outputs": [],
   "source": [
    "import pandas as pd\n",
    "from matplotlib import gridspec\n",
    "from matplotlib.axes import Axes\n",
    "import matplotlib.pyplot as plt\n",
    "\n",
    "from utils import Coordinates, CleanedColumnNames\n",
    "from lightcurve import LightCurve, BinnedLightCurve, Transient\n",
    "from clean import LightCurveCleaner\n",
    "\n",
    "MARKER_SIZE = 30\n",
    "MARKER_EDGEWIDTH = 1.5\n",
    "\n",
    "coords = Coordinates(\"186.44114\",\"12.66357\")\n",
    "filt = \"o\""
   ]
  },
  {
   "cell_type": "markdown",
   "id": "b5f19bca",
   "metadata": {},
   "source": [
    "# test cleaning"
   ]
  },
  {
   "cell_type": "code",
   "execution_count": 2,
   "id": "81455b1b",
   "metadata": {},
   "outputs": [
    {
     "name": "stdout",
     "output_type": "stream",
     "text": [
      "0 /Users/sofiarest/Desktop/Supernovae/data_refactor/atclean_input/2023fyq/2023fyq.o.lc.txt\n",
      "1 /Users/sofiarest/Desktop/Supernovae/data_refactor/atclean_input/2023fyq/controls/2023fyq_i001.o.lc.txt\n",
      "2 /Users/sofiarest/Desktop/Supernovae/data_refactor/atclean_input/2023fyq/controls/2023fyq_i002.o.lc.txt\n",
      "3 /Users/sofiarest/Desktop/Supernovae/data_refactor/atclean_input/2023fyq/controls/2023fyq_i003.o.lc.txt\n",
      "4 /Users/sofiarest/Desktop/Supernovae/data_refactor/atclean_input/2023fyq/controls/2023fyq_i004.o.lc.txt\n",
      "5 /Users/sofiarest/Desktop/Supernovae/data_refactor/atclean_input/2023fyq/controls/2023fyq_i005.o.lc.txt\n",
      "6 /Users/sofiarest/Desktop/Supernovae/data_refactor/atclean_input/2023fyq/controls/2023fyq_i006.o.lc.txt\n",
      "7 /Users/sofiarest/Desktop/Supernovae/data_refactor/atclean_input/2023fyq/controls/2023fyq_i007.o.lc.txt\n",
      "8 /Users/sofiarest/Desktop/Supernovae/data_refactor/atclean_input/2023fyq/controls/2023fyq_i008.o.lc.txt\n",
      "Deleting 0 rows with \"duJy\"==0 or \"uJy\"==NaN\n",
      "Converting flux to magnitude (and overwriting original ATLAS 'm' and 'dm' columns)\n",
      "Replacing infs with NaNs\n",
      "Calculating flux/dflux for 'SNR' column\n",
      "Deleting 0 rows with \"duJy\"==0 or \"uJy\"==NaN\n",
      "Converting flux to magnitude (and overwriting original ATLAS 'm' and 'dm' columns)\n",
      "Replacing infs with NaNs\n",
      "Calculating flux/dflux for 'SNR' column\n",
      "Deleting 0 rows with \"duJy\"==0 or \"uJy\"==NaN\n",
      "Converting flux to magnitude (and overwriting original ATLAS 'm' and 'dm' columns)\n",
      "Replacing infs with NaNs\n",
      "Calculating flux/dflux for 'SNR' column\n",
      "Deleting 0 rows with \"duJy\"==0 or \"uJy\"==NaN\n",
      "Converting flux to magnitude (and overwriting original ATLAS 'm' and 'dm' columns)\n",
      "Replacing infs with NaNs\n",
      "Calculating flux/dflux for 'SNR' column\n",
      "Deleting 0 rows with \"duJy\"==0 or \"uJy\"==NaN\n",
      "Converting flux to magnitude (and overwriting original ATLAS 'm' and 'dm' columns)\n",
      "Replacing infs with NaNs\n",
      "Calculating flux/dflux for 'SNR' column\n",
      "Deleting 0 rows with \"duJy\"==0 or \"uJy\"==NaN\n",
      "Converting flux to magnitude (and overwriting original ATLAS 'm' and 'dm' columns)\n",
      "Replacing infs with NaNs\n",
      "Calculating flux/dflux for 'SNR' column\n",
      "Deleting 0 rows with \"duJy\"==0 or \"uJy\"==NaN\n",
      "Converting flux to magnitude (and overwriting original ATLAS 'm' and 'dm' columns)\n",
      "Replacing infs with NaNs\n",
      "Calculating flux/dflux for 'SNR' column\n",
      "Deleting 0 rows with \"duJy\"==0 or \"uJy\"==NaN\n",
      "Converting flux to magnitude (and overwriting original ATLAS 'm' and 'dm' columns)\n",
      "Replacing infs with NaNs\n",
      "Calculating flux/dflux for 'SNR' column\n",
      "Deleting 0 rows with \"duJy\"==0 or \"uJy\"==NaN\n",
      "Converting flux to magnitude (and overwriting original ATLAS 'm' and 'dm' columns)\n",
      "Replacing infs with NaNs\n",
      "Calculating flux/dflux for 'SNR' column\n",
      "Making sure SN and control light curve MJDs match up exactly\n",
      "WARNING: MJDs out of agreement for control light curve 1; fixing...\n",
      "WARNING: MJDs out of agreement for control light curve 2; fixing...\n",
      "WARNING: MJDs out of agreement for control light curve 3; fixing...\n",
      "WARNING: MJDs out of agreement for control light curve 5; fixing...\n",
      "WARNING: MJDs out of agreement for control light curve 6; fixing...\n",
      "WARNING: MJDs out of agreement for control light curve 7; fixing...\n",
      "WARNING: MJDs out of agreement for control light curve 8; fixing...\n",
      "Success\n"
     ]
    }
   ],
   "source": [
    "transient = Transient(filt=filt, verbose=True)\n",
    "\n",
    "for i in range(0, 9):\n",
    "    lc = LightCurve(i, coords, verbose=True)\n",
    "    if i == 0:\n",
    "        filename = f\"/Users/sofiarest/Desktop/Supernovae/data_refactor/atclean_input/2023fyq/2023fyq.{filt}.lc.txt\"\n",
    "    else:\n",
    "        filename = f\"/Users/sofiarest/Desktop/Supernovae/data_refactor/atclean_input/2023fyq/controls/2023fyq_i{i:03d}.{filt}.lc.txt\"\n",
    "    print(i, filename)\n",
    "    df = pd.read_table(filename, sep=\"\\s+\")\n",
    "    lc.set(df)\n",
    "\n",
    "    # transient.add(lc, deep=False)\n",
    "    transient.lcs[lc.control_index] =lc\n",
    "\n",
    "transient.preprocess()"
   ]
  },
  {
   "cell_type": "code",
   "execution_count": 3,
   "id": "b3fa2d50",
   "metadata": {},
   "outputs": [
    {
     "name": "stdout",
     "output_type": "stream",
     "text": [
      "8\n",
      "[0, 1, 2, 3, 4, 5, 6, 7, 8]\n",
      "[1, 2, 3, 4, 5, 6, 7, 8]\n",
      "-- Required Columns --\n",
      "mjd: MJD\n",
      "ra: RA\n",
      "dec: Dec\n",
      "mag: m\n",
      "dmag: dm\n",
      "flux: uJy\n",
      "dflux: duJy\n",
      "filter: F\n",
      "limiting_mag: mag5sig\n",
      "-- Optional Columns --\n",
      "chisquare: chi/N\n",
      "snr: SNR\n",
      "\n",
      "            MJD          m  dm   uJy  duJy  F  err  chi/N         RA      Dec  \\\n",
      "0  57205.272537  18.504094 NaN -66.0  48.0  o  0.0   1.09  186.44114  12.6683   \n",
      "1  57205.273313  18.356290 NaN -94.0  55.0  o  0.0   1.43  186.44114  12.6683   \n",
      "2  57205.281246  17.990970 NaN  63.0  56.0  o  0.0   0.92  186.44114  12.6683   \n",
      "3  57205.281906  18.417189 NaN -10.0  52.0  o  0.0   1.59  186.44114  12.6683   \n",
      "4  57206.277034  18.048890 NaN  69.0  50.0  o  0.0   1.17  186.44114  12.6683   \n",
      "\n",
      "   ...        y   maj   min   phi  apfit  mag5sig    Sky             Obs Mask  \\\n",
      "0  ...  5145.00  3.98  3.69 -86.4 -0.431    18.28  19.15  02a57205o0017o    0   \n",
      "1  ...  6115.26  4.03  3.46 -88.4 -0.414    18.32  19.24  02a57205o0018o    0   \n",
      "2  ...  5144.12  3.95  3.63 -80.8 -0.425    18.27  19.10  02a57205o0029o    0   \n",
      "3  ...  6114.66  3.97  3.44 -89.4 -0.429    18.30  19.20  02a57205o0030o    0   \n",
      "4  ...  5139.86  4.73  3.70 -47.1 -0.423    18.29  19.39  02a57206o0007o    0   \n",
      "\n",
      "        SNR  \n",
      "0 -1.375000  \n",
      "1 -1.709091  \n",
      "2  1.125000  \n",
      "3 -0.192308  \n",
      "4  1.380000  \n",
      "\n",
      "[5 rows x 21 columns]\n",
      "-- Required Columns --\n",
      "mjd: MJD\n",
      "ra: RA\n",
      "dec: Dec\n",
      "mag: m\n",
      "dmag: dm\n",
      "flux: uJy\n",
      "dflux: duJy\n",
      "filter: F\n",
      "limiting_mag: mag5sig\n",
      "-- Optional Columns --\n",
      "chisquare: chi/N\n",
      "snr: SNR\n"
     ]
    }
   ],
   "source": [
    "print(transient.num_controls)\n",
    "print(transient.lc_indices)\n",
    "print(transient.control_lc_indices)\n",
    "print(transient.colnames)\n",
    "print()\n",
    "print(transient.get(2).t.head())\n",
    "print(transient.get(2).colnames)"
   ]
  },
  {
   "cell_type": "code",
   "execution_count": 4,
   "id": "44b84bb9",
   "metadata": {},
   "outputs": [],
   "source": [
    "cleaner = LightCurveCleaner(verbose=True)"
   ]
  },
  {
   "cell_type": "code",
   "execution_count": 5,
   "id": "1f4a31cd",
   "metadata": {},
   "outputs": [
    {
     "name": "stdout",
     "output_type": "stream",
     "text": [
      "3.9850560398505603\n"
     ]
    }
   ],
   "source": [
    "transient = cleaner.apply_UncertaintyCut(transient)\n",
    "print(transient.get(0).get_percent_flagged(flag=0x2) *100)"
   ]
  },
  {
   "cell_type": "code",
   "execution_count": 6,
   "id": "6a020a6f",
   "metadata": {},
   "outputs": [
    {
     "name": "stdout",
     "output_type": "stream",
     "text": [
      "MJD        float64\n",
      "m          float64\n",
      "dm         float64\n",
      "uJy          int64\n",
      "duJy         int64\n",
      "F           object\n",
      "err          int64\n",
      "chi/N      float64\n",
      "RA         float64\n",
      "Dec        float64\n",
      "x          float64\n",
      "y          float64\n",
      "maj        float64\n",
      "min        float64\n",
      "phi        float64\n",
      "apfit      float64\n",
      "mag5sig    float64\n",
      "Sky        float64\n",
      "Obs         object\n",
      "Mask         int64\n",
      "SNR        float64\n",
      "dtype: object\n"
     ]
    }
   ],
   "source": [
    "print(transient.get(0).t.dtypes)"
   ]
  },
  {
   "cell_type": "code",
   "execution_count": 7,
   "id": "425458e2",
   "metadata": {},
   "outputs": [
    {
     "data": {
      "text/plain": [
       "(-2000.0, 15000.0)"
      ]
     },
     "execution_count": 7,
     "metadata": {},
     "output_type": "execute_result"
    },
    {
     "data": {
      "image/png": "[encoded data removed]",
      "text/plain": [
       "<Figure size 640x480 with 1 Axes>"
      ]
     },
     "metadata": {},
     "output_type": "display_data"
    }
   ],
   "source": [
    "flag=0x2\n",
    "color='orange'\n",
    "\n",
    "fig, (ax) = plt.subplots(1, constrained_layout=True)\n",
    "\n",
    "good_ix = transient.get(0).get_good_indices(flag)\n",
    "bad_ix = transient.get(0).get_bad_indices(flag)\n",
    "\n",
    "ax.errorbar(\n",
    "    transient.get(0).t.loc[good_ix, transient.colnames.mjd],\n",
    "    transient.get(0).t.loc[good_ix, transient.colnames.flux],\n",
    "    yerr=transient.get(0).t.loc[good_ix, transient.colnames.dflux],\n",
    "    fmt=\"none\",\n",
    "    ecolor=color,\n",
    "    elinewidth=1.5,\n",
    "    capsize=1.2,\n",
    "    c=color,\n",
    "    alpha=0.5,\n",
    "    zorder=10,\n",
    ")\n",
    "ax.scatter(\n",
    "    transient.get(0).t.loc[good_ix, transient.colnames.mjd],\n",
    "    transient.get(0).t.loc[good_ix, transient.colnames.flux],\n",
    "    s=MARKER_SIZE,\n",
    "    lw=MARKER_EDGEWIDTH,\n",
    "    color=color,\n",
    "    marker=\"o\",\n",
    "    alpha=0.5,\n",
    "    zorder=10,\n",
    "    label='kept',\n",
    ")\n",
    "\n",
    "ax.errorbar(\n",
    "    transient.get(0).t.loc[bad_ix, transient.colnames.mjd],\n",
    "    transient.get(0).t.loc[bad_ix, transient.colnames.flux],\n",
    "    yerr=transient.get(0).t.loc[bad_ix, transient.colnames.dflux],\n",
    "    fmt=\"none\",\n",
    "    ecolor='red',\n",
    "    elinewidth=1.5,\n",
    "    capsize=1.2,\n",
    "    c='red',\n",
    "    alpha=0.5,\n",
    "    zorder=10,\n",
    ")\n",
    "ax.scatter(\n",
    "    transient.get(0).t.loc[bad_ix, transient.colnames.mjd],\n",
    "    transient.get(0).t.loc[bad_ix, transient.colnames.flux],\n",
    "    s=MARKER_SIZE,\n",
    "    lw=MARKER_EDGEWIDTH,\n",
    "    color='red',\n",
    "    marker=\"o\",\n",
    "    alpha=0.5,\n",
    "    zorder=10,\n",
    "    label='kept',\n",
    "    facecolors=\"none\",\n",
    "    edgecolors='red',\n",
    ")\n",
    "\n",
    "ax.set_ylim(-2000,15000)"
   ]
  },
  {
   "cell_type": "code",
   "execution_count": 8,
   "id": "df2d3d04",
   "metadata": {},
   "outputs": [],
   "source": [
    "#if \"SNR\" in transient.get(0).t.columns:transient.get(0).t.drop(\"SNR\", axis=1,inplace=True)\n",
    "\n",
    "# transient.get(0).t[\"Mask\"] = transient.get(0).t[\"Mask\"].apply(lambda x: f'0x0002' if x != 0 else f\"0x0000\")\n",
    "# print(transient.get(0).t.to_string(index=False))"
   ]
  },
  {
   "cell_type": "code",
   "execution_count": 9,
   "id": "61d68bff",
   "metadata": {},
   "outputs": [
    {
     "name": "stdout",
     "output_type": "stream",
     "text": [
      "WARNING: Cut 'Uncertainty Cut' already exists; overwriting...\n",
      "We can increase the typical uncertainties from 23.50 to 30.50 by adding an additional systematic uncertainty of 19.44 in quadrature\n",
      "New typical uncertainty is 29.79% greater than old typical uncertainty\n",
      "Applying true uncertainties estimation\n",
      "Replacing infs with NaNs\n",
      "Calculating flux/dflux for 'SNR' column\n",
      "Replacing infs with NaNs\n",
      "Calculating flux/dflux for 'SNR' column\n",
      "Replacing infs with NaNs\n",
      "Calculating flux/dflux for 'SNR' column\n",
      "Replacing infs with NaNs\n",
      "Calculating flux/dflux for 'SNR' column\n",
      "Replacing infs with NaNs\n",
      "Calculating flux/dflux for 'SNR' column\n",
      "Replacing infs with NaNs\n",
      "Calculating flux/dflux for 'SNR' column\n",
      "Replacing infs with NaNs\n",
      "Calculating flux/dflux for 'SNR' column\n",
      "Replacing infs with NaNs\n",
      "Calculating flux/dflux for 'SNR' column\n",
      "Replacing infs with NaNs\n",
      "Calculating flux/dflux for 'SNR' column\n",
      "Success\n",
      "The extra noise was added to the uncertainties of the SN light curve and copied to the \"duJy_new\" column\n",
      "Calculating loss and contamination for chi-square cuts from 3 to 50\n",
      "Success\n",
      "Applying chi-square cut of 10.00 with 4.86% contamination and 0.07% loss\n",
      "3.9850560398505603\n",
      "0    19.444359\n",
      "1    19.444359\n",
      "2    19.444359\n",
      "3    19.444359\n",
      "4    19.444359\n",
      "Name: dflux_offset_in_quadrature, dtype: float64\n",
      "0.4047322540473225\n"
     ]
    }
   ],
   "source": [
    "transient = cleaner.apply_UncertaintyCut(transient)\n",
    "transient = cleaner.apply_UncertaintyEstimation(transient)\n",
    "transient, stats_table = cleaner.apply_ChiSquareCut(transient)\n",
    "\n",
    "print(transient.get(0).get_percent_flagged(flag=0x2) *100)\n",
    "print(transient.get(0).t[transient.colnames.dflux_offset].head())\n",
    "print(transient.get(0).get_percent_flagged(flag=0x1) *100)"
   ]
  },
  {
   "cell_type": "code",
   "execution_count": 10,
   "id": "50cc69b2",
   "metadata": {},
   "outputs": [
    {
     "name": "stdout",
     "output_type": "stream",
     "text": [
      "None\n"
     ]
    }
   ],
   "source": [
    "from utils import StatParams\n",
    "\n",
    "\n",
    "s = StatParams()\n",
    "print(s.mean)"
   ]
  },
  {
   "cell_type": "code",
   "execution_count": 11,
   "id": "8f17a42e",
   "metadata": {},
   "outputs": [
    {
     "name": "stdout",
     "output_type": "stream",
     "text": [
      "Calculating control light curve statistics\n",
      "Success\n"
     ]
    }
   ],
   "source": [
    "previous_flags = 0x1 | 0x2\n",
    "\n",
    "# transient.calculate_control_stats(previous_flags)\n",
    "# transient.flag_by_control_stats()\n",
    "\n",
    "transient = cleaner.apply_ControlLightCurveCut(transient, previous_flags)"
   ]
  },
  {
   "cell_type": "code",
   "execution_count": 12,
   "id": "f502d183",
   "metadata": {},
   "outputs": [
    {
     "data": {
      "text/plain": [
       "Index(['MJD', 'm', 'dm', 'uJy', 'duJy', 'F', 'err', 'chi/N', 'RA', 'Dec', 'x',\n",
       "       'y', 'maj', 'min', 'phi', 'apfit', 'mag5sig', 'Sky', 'Obs', 'Mask',\n",
       "       'SNR', 'dflux_offset_in_quadrature', 'controls_mean',\n",
       "       'controls_mean_err', 'controls_stdev', 'controls_stdev_err',\n",
       "       'controls_X2norm', 'controls_Nclip', 'controls_Ngood',\n",
       "       'controls_Nchanged', 'controls_Nmask', 'controls_Nnan',\n",
       "       'controls_abs_stn'],\n",
       "      dtype='object')"
      ]
     },
     "execution_count": 12,
     "metadata": {},
     "output_type": "execute_result"
    }
   ],
   "source": [
    "transient.get(0).t.columns"
   ]
  },
  {
   "cell_type": "code",
   "execution_count": 13,
   "id": "6b21063f",
   "metadata": {},
   "outputs": [
    {
     "name": "stdout",
     "output_type": "stream",
     "text": [
      "              MJD          m  dm   uJy        duJy  F  err  chi/N         RA       Dec        x        y   maj   min   phi  apfit  mag5sig    Sky             Obs     Mask  controls_mean  controls_mean_err  controls_stdev  controls_stdev_err  controls_X2norm  controls_Ngood  controls_Nclip  controls_Nmask  controls_Nnan  controls_abs_stn\n",
      "205  57893.354393  17.281543 NaN -2540  149.271843  o    0  10.14  186.44114  12.66357  2855.46  4678.42  5.43  4.63  74.0 -0.367    18.92  20.91  01a57893o0229o  4196609           79.5         132.930792     3322.464744         1661.232372       398.504911               0               2               6              0          0.598056\n",
      "206  57893.371307  18.675237 NaN  -539   45.377121  o    0   7.47  186.44114  12.66357  2849.53  4860.33  5.72  4.68  76.5 -0.334    18.78  20.78  01a57893o0263o  4197632          -47.5          21.551022      989.755463          285.717791       225.754726               0               6               2              0         -2.204072\n"
     ]
    }
   ],
   "source": [
    "if \"SNR\" in transient.get(0).t.columns:\n",
    "    transient.get(0).t.drop(\"SNR\", axis=1,inplace=True)\n",
    "if \"controls_Nchanged\" in transient.get(0).t.columns:\n",
    "    transient.get(0).t.drop(\"controls_Nchanged\", axis=1,inplace=True)\n",
    "\n",
    "if transient.colnames.dflux_offset in transient.get(0).t.columns:\n",
    "    transient.get(0).t.drop(transient.colnames.dflux_offset, axis=1,inplace=True)\n",
    "\n",
    "# transient.get(0).t[\"Mask\"] = transient.get(0).t[\"Mask\"].apply(lambda x:hex(x) if x != 0 else f\"0x0000\")\n",
    "for col in ['controls_Nclip',  'controls_Ngood',  'controls_Nchanged',  'controls_Nmask' , 'controls_Nnan']:\n",
    "    if col in transient.get(0).t.columns:transient.get(0).t[col] = transient.get(0).t[col].astype(int)\n",
    "\n",
    "cols = transient.get(0).t.columns.tolist()\n",
    "i, j = cols.index('controls_Nclip'), cols.index('controls_Ngood')\n",
    "cols[i], cols[j] = cols[j], cols[i]\n",
    "transient.get(0).t = transient.get(0).t[cols]\n",
    "\n",
    "print(transient.get(0).t.iloc[[205,206]].to_string())#.to_string(index=False))"
   ]
  },
  {
   "cell_type": "code",
   "execution_count": 14,
   "id": "206017b9",
   "metadata": {},
   "outputs": [
    {
     "name": "stdout",
     "output_type": "stream",
     "text": [
      "0x400901 0x400d00\n",
      "0x400801 0x400c00\n",
      "0x400901 0x400d00\n"
     ]
    }
   ],
   "source": [
    "print(hex(4196609), hex(4197632))\n",
    "print(hex(4196353), hex(4197376))\n",
    "print(hex(4196353|0x100),hex(4197376|0x100))"
   ]
  },
  {
   "cell_type": "code",
   "execution_count": 15,
   "id": "06c5db7f",
   "metadata": {},
   "outputs": [],
   "source": [
    "transient.get(0).t.at[205,\"Mask\"] &= ~0x100\n",
    "transient.get(0).t.at[206,\"Mask\"] &= ~0x100"
   ]
  },
  {
   "cell_type": "code",
   "execution_count": 16,
   "id": "7fe23a5b",
   "metadata": {},
   "outputs": [
    {
     "name": "stdout",
     "output_type": "stream",
     "text": [
      "-- Cut History --\n",
      "Uncertainty Cut\n",
      "- 'high_uncertainty' primary flag (0x2): measurement has an uncertainty above 160\n",
      "True Uncertainties Estimation: We attempt to account for an extra noise source in the data by estimating the true typical uncertainty, deriving the additional systematic uncertainty, and applying this extra noise to the uncertainty column. We also use a temporary, very high PSF chi-square cut value of 20 to eliminate the most egregious outliers from the data before estimating the true uncertainties.\n",
      "PSF Chi-Square Cut\n",
      "- 'high_psf_chi_square' primary flag (0x1): measurement has a PSF chi-square above 10\n",
      "Control Light Curve Cut: For a given SN epoch, we can calculate the 3sigma-clipped average of the corresponding N control flux measurements falling within the same epoch. Given the expectation of control flux consistency with zero, the statistical properties accompanying the 3sigma-clipped average enable us to identify problematic epochs.\n",
      "- 'bad_epoch' primary flag (0x400000): control flux corresponding to this epoch is inconsistent with 0\n",
      "- 'high_control_x2' secondary flag (0x100): chi-square of control flux corresponding to this epoch is higher than 2.5\n",
      "- 'high_control_snr' secondary flag (0x200): SNR of control flux corresponding to this epoch is higher than 3.0\n",
      "- 'high_control_Nclip' secondary flag (0x400): number of clipped control measurements corresponding to this epoch is higher than 2\n",
      "- 'low_control_Ngood' secondary flag (0x800): number of good control measurements corresponding to this epoch is lower than 4\n",
      "- 'questionable_epoch' secondary flag (0x80000): control measurements in this epoch were not flagged, but has one or more were clipped\n",
      "\n",
      "3.5491905354919058\n",
      "0.8405977584059776\n",
      "1.805728518057285\n",
      "4.35865504358655\n",
      "24.813200498132005\n",
      "9.059775840597759\n"
     ]
    }
   ],
   "source": [
    "print(cleaner.cut_history)\n",
    "\n",
    "print()\n",
    "print(transient.get(0).get_percent_flagged(flag=0x100) *100)\n",
    "print(transient.get(0).get_percent_flagged(flag=0x200) *100)\n",
    "print(transient.get(0).get_percent_flagged(flag=0x400) *100)\n",
    "print(transient.get(0).get_percent_flagged(flag=0x800) *100)\n",
    "print(transient.get(0).get_percent_flagged(flag=0x80000) *100)\n",
    "print(transient.get(0).get_percent_flagged(flag=0x400000) *100)"
   ]
  },
  {
   "cell_type": "code",
   "execution_count": 18,
   "id": "2fb948d5",
   "metadata": {},
   "outputs": [
    {
     "name": "stdout",
     "output_type": "stream",
     "text": [
      "Now averaging SN light curve\n",
      "Now averaging control light curve 1\n",
      "Now averaging control light curve 2\n",
      "Now averaging control light curve 3\n",
      "Now averaging control light curve 4\n",
      "Now averaging control light curve 5\n",
      "Now averaging control light curve 6\n",
      "Now averaging control light curve 7\n",
      "Now averaging control light curve 8\n"
     ]
    }
   ],
   "source": [
    "previous_flags = previous_flags | 0x400000\n",
    "transient, binned_transient = cleaner.apply_BadDayCut(transient, previous_flags)"
   ]
  },
  {
   "cell_type": "code",
   "execution_count": 19,
   "id": "2ccc0508",
   "metadata": {},
   "outputs": [
    {
     "name": "stdout",
     "output_type": "stream",
     "text": [
      "    MJDbin  Nclip  Ngood  Nexcluded      Mask          MJD       flux  \\\n",
      "0  57205.5      0      4          0    0x0000  57205.27725 -54.362651   \n",
      "1  57206.5      0      5          1    0x0000  57206.28422 -57.309750   \n",
      "2  57207.5      0      0          0  0x800000          NaN        NaN   \n",
      "3  57208.5      0      0          0  0x800000          NaN        NaN   \n",
      "4  57209.5      0      0          0  0x800000          NaN        NaN   \n",
      "\n",
      "       dflux      stdev    X2norm          m  dm  \n",
      "0  27.994392  69.680222  1.346859  19.089519 NaN  \n",
      "1  23.793532  66.266885  1.626559  19.266050 NaN  \n",
      "2        NaN        NaN       NaN        NaN NaN  \n",
      "3        NaN        NaN       NaN        NaN NaN  \n",
      "4        NaN        NaN       NaN        NaN NaN  \n",
      "-- Cut History --\n",
      "Uncertainty Cut\n",
      "- 'high_uncertainty' primary flag (0x2): measurement has an uncertainty above 160\n",
      "True Uncertainties Estimation: We attempt to account for an extra noise source in the data by estimating the true typical uncertainty, deriving the additional systematic uncertainty, and applying this extra noise to the uncertainty column. We also use a temporary, very high PSF chi-square cut value of 20 to eliminate the most egregious outliers from the data before estimating the true uncertainties.\n",
      "PSF Chi-Square Cut\n",
      "- 'high_psf_chi_square' primary flag (0x1): measurement has a PSF chi-square above 10\n",
      "Control Light Curve Cut: For a given SN epoch, we can calculate the 3sigma-clipped average of the corresponding N control flux measurements falling within the same epoch. Given the expectation of control flux consistency with zero, the statistical properties accompanying the 3sigma-clipped average enable us to identify problematic epochs.\n",
      "- 'bad_epoch' primary flag (0x400000): control flux corresponding to this epoch is inconsistent with 0\n",
      "- 'high_control_x2' secondary flag (0x100): chi-square of control flux corresponding to this epoch is higher than 2.5\n",
      "- 'high_control_snr' secondary flag (0x200): SNR of control flux corresponding to this epoch is higher than 3.0\n",
      "- 'high_control_Nclip' secondary flag (0x400): number of clipped control measurements corresponding to this epoch is higher than 2\n",
      "- 'low_control_Ngood' secondary flag (0x800): number of good control measurements corresponding to this epoch is lower than 4\n",
      "- 'questionable_epoch' secondary flag (0x80000): control measurements in this epoch were not flagged, but has one or more were clipped\n",
      "Bad Day Cut (Binning)\n",
      "- 'bad_day' primary flag (0x800000): binned epoch has chi-square higher than 4.0, number of clipped measurements higher than 1, number of good measurements lower than 2\n",
      "- 'large_num_clipped_flag' secondary flag (0x1000): binned epoch had a nonzero number of measurements clipped during 3sigma-clipped average\n",
      "- 'small_num_unmasked_flag' secondary flag (0x2000): binned epoch had 2 or less unmasked measurements passed to 3sigma-clipped average\n",
      "3.5803237858032375\n",
      "5.020352781546811\n"
     ]
    }
   ],
   "source": [
    "df = binned_transient.get(0).t.copy()\n",
    "df[\"Mask\"] = df[\"Mask\"].apply(lambda x: hex(x) if x != 0 else f\"0x0000\")\n",
    "print(df.head())\n",
    "df.to_string(\"test.txt\", index=False)\n",
    "\n",
    "print(cleaner.cut_history)\n",
    "print(transient.get(0).get_percent_flagged(flag=0x800000) *100)\n",
    "print(binned_transient.get(0).get_percent_flagged(flag=0x800000) *100)"
   ]
  },
  {
   "cell_type": "code",
   "execution_count": null,
   "id": "a977a34a",
   "metadata": {},
   "outputs": [],
   "source": [
    "lc = transient.get(0)\n",
    "\n",
    "non_null_ix = lc.ix_not_null(lc.colnames.mjd)\n",
    "bad_ix = lc.ix_masked(lc.colnames.mask, maskval=flag, indices=non_null_ix)\n",
    "print(len(lc.t))\n",
    "print(len(non_null_ix))\n",
    "print(len(bad_ix))"
   ]
  },
  {
   "cell_type": "markdown",
   "id": "ad33ac06",
   "metadata": {},
   "source": [
    "# test binning"
   ]
  },
  {
   "cell_type": "code",
   "execution_count": null,
   "id": "0801eb1b",
   "metadata": {},
   "outputs": [],
   "source": [
    "lc = LightCurve(0, coords, verbose=True)\n",
    "df = pd.read_table(\"/Users/sofiarest/Desktop/Supernovae/data_refactor/output/misc/2023fyq/2023fyq.o.clean.lc.txt\", sep=\"\\s+\")\n",
    "lc.set(df)\n",
    "lc.t[lc.colnames.mask] = lc.t[lc.colnames.mask].apply(\n",
    "    lambda x: int(x, 16) if isinstance(x, str) and x.startswith(\"0x\") else int(x)\n",
    ")"
   ]
  },
  {
   "cell_type": "code",
   "execution_count": null,
   "id": "a414d795",
   "metadata": {},
   "outputs": [],
   "source": [
    "print(lc.colnames.__str__())\n",
    "lc.t.head()"
   ]
  },
  {
   "cell_type": "code",
   "execution_count": null,
   "id": "33c942ca",
   "metadata": {},
   "outputs": [],
   "source": [
    "previous_flags = 0x1|0x2|0x400000\n",
    "binned_lc = lc.get_BinnedLightCurve(previous_flags)"
   ]
  },
  {
   "cell_type": "code",
   "execution_count": null,
   "id": "9b71b61b",
   "metadata": {},
   "outputs": [],
   "source": [
    "df = binned_lc.t.copy()\n",
    "df[\"Mask\"] = df[\"Mask\"].apply(lambda x: hex(x) if x != 0 else f\"0x0000\")\n",
    "print(df.head())\n",
    "df.to_string(\"test.txt\", index=False)"
   ]
  },
  {
   "cell_type": "code",
   "execution_count": null,
   "id": "655227c5",
   "metadata": {},
   "outputs": [],
   "source": []
  }
 ],
 "metadata": {
  "kernelspec": {
   "display_name": "base",
   "language": "python",
   "name": "python3"
  },
  "language_info": {
   "codemirror_mode": {
    "name": "ipython",
    "version": 3
   },
   "file_extension": ".py",
   "mimetype": "text/x-python",
   "name": "python",
   "nbconvert_exporter": "python",
   "pygments_lexer": "ipython3",
   "version": "3.11.6"
  }
 },
 "nbformat": 4,
 "nbformat_minor": 5
}
